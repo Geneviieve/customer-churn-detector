{
 "cells": [
  {
   "cell_type": "code",
   "execution_count": 10,
   "id": "eba21171",
   "metadata": {},
   "outputs": [],
   "source": [
    "import pandas as pd\n",
    "from sklearn.model_selection import train_test_split\n",
    "from sklearn.preprocessing import StandardScaler\n",
    "from sklearn.linear_model import LogisticRegression\n",
    "from sklearn.ensemble import RandomForestClassifier\n",
    "from xgboost import XGBClassifier\n",
    "from sklearn.metrics import classification_report, accuracy_score, roc_auc_score\n",
    "import joblib #buat save model\n",
    "\n",
    "df = pd.read_csv(\"../dataset/cleanedData.csv\")"
   ]
  },
  {
   "cell_type": "code",
   "execution_count": 11,
   "id": "4950627c",
   "metadata": {},
   "outputs": [],
   "source": [
    "#split\n",
    "X = df.drop(\"Churn\", axis=1)\n",
    "y = df[\"Churn\"]\n",
    "X_train, X_test, y_train, y_test = train_test_split(\n",
    "    X, y, test_size=0.25, random_state=42, stratify=y\n",
    ")\n",
    "\n",
    "#scale num values\n",
    "scaler = StandardScaler()\n",
    "num_cols = [\"tenure\", \"MonthlyCharges\", \"TotalCharges\"]\n",
    "X_train[num_cols] = scaler.fit_transform(X_train[num_cols])\n",
    "X_test[num_cols] = scaler.transform(X_test[num_cols])"
   ]
  },
  {
   "cell_type": "code",
   "execution_count": 12,
   "id": "a537b7a8",
   "metadata": {},
   "outputs": [
    {
     "name": "stdout",
     "output_type": "stream",
     "text": [
      "\n",
      "Logistic Regression\n",
      "Accuracy: 0.806\n",
      "ROC-AUC: 0.84\n",
      "              precision    recall  f1-score   support\n",
      "\n",
      "           0       0.85      0.89      0.87      1291\n",
      "           1       0.65      0.57      0.61       467\n",
      "\n",
      "    accuracy                           0.81      1758\n",
      "   macro avg       0.75      0.73      0.74      1758\n",
      "weighted avg       0.80      0.81      0.80      1758\n",
      "\n",
      "\n",
      "Random Forest\n",
      "Accuracy: 0.789\n",
      "ROC-AUC: 0.815\n",
      "              precision    recall  f1-score   support\n",
      "\n",
      "           0       0.83      0.89      0.86      1291\n",
      "           1       0.63      0.50      0.56       467\n",
      "\n",
      "    accuracy                           0.79      1758\n",
      "   macro avg       0.73      0.70      0.71      1758\n",
      "weighted avg       0.78      0.79      0.78      1758\n",
      "\n",
      "\n",
      "XGBoost\n",
      "Accuracy: 0.77\n",
      "ROC-AUC: 0.812\n",
      "              precision    recall  f1-score   support\n",
      "\n",
      "           0       0.83      0.87      0.85      1291\n",
      "           1       0.58      0.50      0.54       467\n",
      "\n",
      "    accuracy                           0.77      1758\n",
      "   macro avg       0.70      0.68      0.69      1758\n",
      "weighted avg       0.76      0.77      0.76      1758\n",
      "\n"
     ]
    },
    {
     "name": "stderr",
     "output_type": "stream",
     "text": [
      "c:\\Users\\USER\\AppData\\Local\\Programs\\Python\\Python310\\lib\\site-packages\\xgboost\\training.py:183: UserWarning: [10:18:54] WARNING: C:\\actions-runner\\_work\\xgboost\\xgboost\\src\\learner.cc:738: \n",
      "Parameters: { \"use_label_encoder\" } are not used.\n",
      "\n",
      "  bst.update(dtrain, iteration=i, fobj=obj)\n"
     ]
    }
   ],
   "source": [
    "#coba pake beberapa baseline model, logreg, random forest, XGBoost\n",
    "#tiap model param beda\"\n",
    "models = {\n",
    "    \"Logistic Regression\": LogisticRegression(max_iter=1000), #biar ga stuck di convergence warning\n",
    "    \"Random Forest\": RandomForestClassifier(n_estimators=100, random_state=42), #n_est = jumlah pohon\n",
    "    \"XGBoost\": XGBClassifier(use_label_encoder=False, eval_metric=\"logloss\", random_state=42) #buat suppress warning + standar buat classification\n",
    "}\n",
    "\n",
    "for name, model in models.items():\n",
    "    print(f\"\\n{name}\")\n",
    "    model.fit(X_train, y_train)\n",
    "    y_pred = model.predict(X_test)\n",
    "    y_prob = model.predict_proba(X_test)[:, 1]\n",
    "\n",
    "    print(\"Accuracy:\", round(accuracy_score(y_test, y_pred), 3))\n",
    "    print(\"ROC-AUC:\", round(roc_auc_score(y_test, y_prob), 3))\n",
    "    print(classification_report(y_test, y_pred))\n"
   ]
  },
  {
   "cell_type": "markdown",
   "id": "16fb012e",
   "metadata": {},
   "source": [
    "logreg haslnya paling bagus with 80,6% accuracy"
   ]
  },
  {
   "cell_type": "code",
   "execution_count": 13,
   "id": "b4c9de5d",
   "metadata": {},
   "outputs": [
    {
     "data": {
      "text/plain": [
       "['../models/xgb.pkl']"
      ]
     },
     "execution_count": 13,
     "metadata": {},
     "output_type": "execute_result"
    }
   ],
   "source": [
    "joblib.dump(models[\"Logistic Regression\"], \"../models/logreg.pkl\")\n",
    "joblib.dump(models[\"Random Forest\"], \"../models/randomforest.pkl\")\n",
    "joblib.dump(models[\"XGBoost\"], \"../models/xgb.pkl\")"
   ]
  }
 ],
 "metadata": {
  "kernelspec": {
   "display_name": "Python 3",
   "language": "python",
   "name": "python3"
  },
  "language_info": {
   "codemirror_mode": {
    "name": "ipython",
    "version": 3
   },
   "file_extension": ".py",
   "mimetype": "text/x-python",
   "name": "python",
   "nbconvert_exporter": "python",
   "pygments_lexer": "ipython3",
   "version": "3.10.9"
  }
 },
 "nbformat": 4,
 "nbformat_minor": 5
}
